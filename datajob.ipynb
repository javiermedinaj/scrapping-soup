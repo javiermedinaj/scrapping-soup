{
 "cells": [
  {
   "cell_type": "code",
   "execution_count": 3,
   "id": "2899897f",
   "metadata": {},
   "outputs": [],
   "source": [
    "import pandas as pd\n",
    "import matplotlib.pyplot as plt\n"
   ]
  },
  {
   "cell_type": "code",
   "execution_count": null,
   "id": "9f205ac5",
   "metadata": {},
   "outputs": [],
   "source": []
  },
  {
   "cell_type": "code",
   "execution_count": 4,
   "id": "e4699a0a",
   "metadata": {},
   "outputs": [],
   "source": [
    "df = pd.read_csv(\"trabajos.csv\")"
   ]
  },
  {
   "cell_type": "code",
   "execution_count": 5,
   "id": "57921440",
   "metadata": {},
   "outputs": [
    {
     "name": "stdout",
     "output_type": "stream",
     "text": [
      "                                               Nombre      Sueldo  \\\n",
      "0                                Auxiliar de Deposito  12000000.0   \n",
      "1                          Analista de Administración  16000000.0   \n",
      "2                 Asesores Comerciales Plan de Ahorro         NaN   \n",
      "3   Ejecutivos comerciales para importante financi...  20000000.0   \n",
      "4   Vendedores Para Call Center con o sin Experiencia   8000000.0   \n",
      "5             Encargado web y empaquetados de pedidos   8000000.0   \n",
      "6     Telemarketer Part Time para Fiat Giama sucursal   8000000.0   \n",
      "7     Oficial Carpintero  - Fabrica de Muebles - CABA         NaN   \n",
      "8              Cortador Carnicero depostador Aprendis  20000000.0   \n",
      "9                                 Asistentes Dentales         NaN   \n",
      "10          Operario de Maestranza en Belgrano - CABA       100.0   \n",
      "11  Asesoras/es de Ventas Digitales y Telefónicas ...  15000000.0   \n",
      "12  Técnico Electromecánico /Electrónico en CABA y...       100.0   \n",
      "13                Ayudante de cocina para producción.  20000000.0   \n",
      "14          Comunity manager y empaquetado de pedidos   8000000.0   \n",
      "15                  Buscamos asistentes de publicidad    200000.0   \n",
      "16          Encargado/a de Sucursal (Horario Cortado)         NaN   \n",
      "17  Asesores comercial zona norte caba zona oeste ...  10000000.0   \n",
      "18  Gerente de local delivery/take away - Con expe...         NaN   \n",
      "19                     Recepcionista para Wine Resort         NaN   \n",
      "20                           Oficial Mecánico de Obra         NaN   \n",
      "21  Operario de Pintura - Fábrica de Muebles Metál...         NaN   \n",
      "22                     Preventista/corredor comercial  10000000.0   \n",
      "23                                Vendedor telefónico  10000000.0   \n",
      "\n",
      "                            Lugar  \\\n",
      "0   Capital Federal, Buenos Aires   \n",
      "1   Capital Federal, Buenos Aires   \n",
      "2                Baires Rivadavia   \n",
      "3   Capital Federal, Buenos Aires   \n",
      "4   Capital Federal, Buenos Aires   \n",
      "5   Capital Federal, Buenos Aires   \n",
      "6   Capital Federal, Buenos Aires   \n",
      "7                CDSE Consultores   \n",
      "8   Capital Federal, Buenos Aires   \n",
      "9                 Progreso Dental   \n",
      "10  Capital Federal, Buenos Aires   \n",
      "11  Capital Federal, Buenos Aires   \n",
      "12  Capital Federal, Buenos Aires   \n",
      "13  Capital Federal, Buenos Aires   \n",
      "14  Capital Federal, Buenos Aires   \n",
      "15  Capital Federal, Buenos Aires   \n",
      "16          Ganadera Panamericana   \n",
      "17  Capital Federal, Buenos Aires   \n",
      "18                      Sushiclub   \n",
      "19                         Linkup   \n",
      "20                     Bairestron   \n",
      "21               CDSE Consultores   \n",
      "22  Capital Federal, Buenos Aires   \n",
      "23  Capital Federal, Buenos Aires   \n",
      "\n",
      "                                                 Link  \n",
      "0   https://ar.trabajosdiarios.com/trabajo/2400442...  \n",
      "1   https://ar.trabajosdiarios.com/trabajo/2399855...  \n",
      "2   https://ar.trabajosdiarios.com/trabajo/2397757...  \n",
      "3   https://ar.trabajosdiarios.com/trabajo/2396781...  \n",
      "4   https://ar.trabajosdiarios.com/trabajo/2394325...  \n",
      "5   https://ar.trabajosdiarios.com/trabajo/2393612...  \n",
      "6   https://ar.trabajosdiarios.com/trabajo/2392552...  \n",
      "7   https://ar.trabajosdiarios.com/trabajo/2391257...  \n",
      "8   https://ar.trabajosdiarios.com/trabajo/2391101...  \n",
      "9   https://ar.trabajosdiarios.com/trabajo/2390372...  \n",
      "10  https://ar.trabajosdiarios.com/trabajo/2385699...  \n",
      "11  https://ar.trabajosdiarios.com/trabajo/2385214...  \n",
      "12  https://ar.trabajosdiarios.com/trabajo/2373765...  \n",
      "13  https://ar.trabajosdiarios.com/trabajo/2366817...  \n",
      "14  https://ar.trabajosdiarios.com/trabajo/2403923...  \n",
      "15  https://ar.trabajosdiarios.com/trabajo/2403821...  \n",
      "16  https://ar.trabajosdiarios.com/trabajo/2403573...  \n",
      "17  https://ar.trabajosdiarios.com/trabajo/2403325...  \n",
      "18  https://ar.trabajosdiarios.com/trabajo/2403181...  \n",
      "19  https://ar.trabajosdiarios.com/trabajo/2403138...  \n",
      "20  https://ar.trabajosdiarios.com/trabajo/2402324...  \n",
      "21  https://ar.trabajosdiarios.com/trabajo/2402212...  \n",
      "22  https://ar.trabajosdiarios.com/trabajo/2401577...  \n",
      "23  https://ar.trabajosdiarios.com/trabajo/2401572...  \n"
     ]
    }
   ],
   "source": [
    "print(df)"
   ]
  },
  {
   "cell_type": "code",
   "execution_count": 6,
   "id": "4e6a88ff",
   "metadata": {},
   "outputs": [],
   "source": [
    "df[\"Sueldo\"] = pd.to_numeric(df[\"Sueldo\"])"
   ]
  },
  {
   "cell_type": "code",
   "execution_count": null,
   "id": "5367f750",
   "metadata": {},
   "outputs": [],
   "source": []
  },
  {
   "cell_type": "code",
   "execution_count": 10,
   "id": "af2d9b18",
   "metadata": {},
   "outputs": [
    {
     "data": {
      "text/plain": [
       "10325012.5"
      ]
     },
     "execution_count": 10,
     "metadata": {},
     "output_type": "execute_result"
    }
   ],
   "source": [
    "df[\"Sueldo\"].mean()"
   ]
  },
  {
   "cell_type": "code",
   "execution_count": null,
   "id": "7d3045fd",
   "metadata": {},
   "outputs": [],
   "source": []
  },
  {
   "cell_type": "code",
   "execution_count": null,
   "id": "416eeb6a",
   "metadata": {},
   "outputs": [],
   "source": [
    "\n"
   ]
  },
  {
   "cell_type": "code",
   "execution_count": null,
   "id": "7d86f176",
   "metadata": {},
   "outputs": [],
   "source": []
  },
  {
   "cell_type": "code",
   "execution_count": null,
   "id": "12e81c69",
   "metadata": {},
   "outputs": [],
   "source": []
  },
  {
   "cell_type": "code",
   "execution_count": null,
   "id": "7844e712",
   "metadata": {},
   "outputs": [],
   "source": []
  },
  {
   "cell_type": "code",
   "execution_count": null,
   "id": "dd2fb629",
   "metadata": {},
   "outputs": [],
   "source": []
  },
  {
   "cell_type": "code",
   "execution_count": null,
   "id": "c7a49664",
   "metadata": {},
   "outputs": [],
   "source": []
  },
  {
   "cell_type": "code",
   "execution_count": null,
   "id": "88b21583",
   "metadata": {},
   "outputs": [],
   "source": []
  },
  {
   "cell_type": "code",
   "execution_count": 2,
   "id": "3aa2b2b1",
   "metadata": {},
   "outputs": [],
   "source": []
  }
 ],
 "metadata": {
  "kernelspec": {
   "display_name": "Python 3 (ipykernel)",
   "language": "python",
   "name": "python3"
  },
  "language_info": {
   "codemirror_mode": {
    "name": "ipython",
    "version": 3
   },
   "file_extension": ".py",
   "mimetype": "text/x-python",
   "name": "python",
   "nbconvert_exporter": "python",
   "pygments_lexer": "ipython3",
   "version": "3.10.10"
  }
 },
 "nbformat": 4,
 "nbformat_minor": 5
}
